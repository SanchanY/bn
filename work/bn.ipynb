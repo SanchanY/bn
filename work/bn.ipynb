{
 "cells": [
  {
   "cell_type": "code",
   "execution_count": 1,
   "metadata": {},
   "outputs": [],
   "source": [
    "from pgmpy.models import BayesianModel\n",
    "from pgmpy.estimators import HillClimbSearch, K2Score, ExhaustiveSearch\n",
    "from pgmpy.sampling import BayesianModelSampling\n",
    "import pandas as pd\n",
    "import numpy as np\n",
    "from pgmpy.inference.CausalInference import CausalInference"
   ]
  },
  {
   "cell_type": "code",
   "execution_count": 2,
   "metadata": {},
   "outputs": [
    {
     "data": {
      "text/html": [
       "<div>\n",
       "<style scoped>\n",
       "    .dataframe tbody tr th:only-of-type {\n",
       "        vertical-align: middle;\n",
       "    }\n",
       "\n",
       "    .dataframe tbody tr th {\n",
       "        vertical-align: top;\n",
       "    }\n",
       "\n",
       "    .dataframe thead th {\n",
       "        text-align: right;\n",
       "    }\n",
       "</style>\n",
       "<table border=\"1\" class=\"dataframe\">\n",
       "  <thead>\n",
       "    <tr style=\"text-align: right;\">\n",
       "      <th></th>\n",
       "      <th>bglB</th>\n",
       "      <th>malx</th>\n",
       "      <th>yihR</th>\n",
       "      <th>chbF</th>\n",
       "    </tr>\n",
       "    <tr>\n",
       "      <th>gene</th>\n",
       "      <th></th>\n",
       "      <th></th>\n",
       "      <th></th>\n",
       "      <th></th>\n",
       "    </tr>\n",
       "  </thead>\n",
       "  <tbody>\n",
       "    <tr>\n",
       "      <th>1</th>\n",
       "      <td>2.389907e-07</td>\n",
       "      <td>9.403729e-07</td>\n",
       "      <td>4.792578e-07</td>\n",
       "      <td>4.533360e-07</td>\n",
       "    </tr>\n",
       "    <tr>\n",
       "      <th>2</th>\n",
       "      <td>3.838396e-06</td>\n",
       "      <td>3.847846e-06</td>\n",
       "      <td>3.848767e-06</td>\n",
       "      <td>1.920287e-06</td>\n",
       "    </tr>\n",
       "    <tr>\n",
       "      <th>3</th>\n",
       "      <td>4.884611e-07</td>\n",
       "      <td>9.615077e-07</td>\n",
       "      <td>4.864569e-07</td>\n",
       "      <td>4.830404e-07</td>\n",
       "    </tr>\n",
       "    <tr>\n",
       "      <th>4</th>\n",
       "      <td>1.217226e-07</td>\n",
       "      <td>4.807837e-07</td>\n",
       "      <td>1.207673e-07</td>\n",
       "      <td>2.398760e-07</td>\n",
       "    </tr>\n",
       "    <tr>\n",
       "      <th>5</th>\n",
       "      <td>2.417564e-07</td>\n",
       "      <td>9.593193e-07</td>\n",
       "      <td>2.428970e-07</td>\n",
       "      <td>4.823107e-07</td>\n",
       "    </tr>\n",
       "    <tr>\n",
       "      <th>...</th>\n",
       "      <td>...</td>\n",
       "      <td>...</td>\n",
       "      <td>...</td>\n",
       "      <td>...</td>\n",
       "    </tr>\n",
       "    <tr>\n",
       "      <th>67</th>\n",
       "      <td>9.792460e-07</td>\n",
       "      <td>3.883072e-06</td>\n",
       "      <td>9.774067e-07</td>\n",
       "      <td>9.743799e-07</td>\n",
       "    </tr>\n",
       "    <tr>\n",
       "      <th>68</th>\n",
       "      <td>2.400960e-07</td>\n",
       "      <td>1.926050e-06</td>\n",
       "      <td>1.199850e-07</td>\n",
       "      <td>4.857323e-07</td>\n",
       "    </tr>\n",
       "    <tr>\n",
       "      <th>69</th>\n",
       "      <td>2.447039e-07</td>\n",
       "      <td>9.770637e-07</td>\n",
       "      <td>2.421745e-07</td>\n",
       "      <td>4.846598e-07</td>\n",
       "    </tr>\n",
       "    <tr>\n",
       "      <th>70</th>\n",
       "      <td>4.782340e-07</td>\n",
       "      <td>3.838827e-06</td>\n",
       "      <td>4.784756e-07</td>\n",
       "      <td>9.520574e-07</td>\n",
       "    </tr>\n",
       "    <tr>\n",
       "      <th>71</th>\n",
       "      <td>4.873903e-07</td>\n",
       "      <td>1.961023e-06</td>\n",
       "      <td>4.881655e-07</td>\n",
       "      <td>9.774662e-07</td>\n",
       "    </tr>\n",
       "  </tbody>\n",
       "</table>\n",
       "<p>71 rows × 4 columns</p>\n",
       "</div>"
      ],
      "text/plain": [
       "              bglB          malx          yihR          chbF\n",
       "gene                                                        \n",
       "1     2.389907e-07  9.403729e-07  4.792578e-07  4.533360e-07\n",
       "2     3.838396e-06  3.847846e-06  3.848767e-06  1.920287e-06\n",
       "3     4.884611e-07  9.615077e-07  4.864569e-07  4.830404e-07\n",
       "4     1.217226e-07  4.807837e-07  1.207673e-07  2.398760e-07\n",
       "5     2.417564e-07  9.593193e-07  2.428970e-07  4.823107e-07\n",
       "...            ...           ...           ...           ...\n",
       "67    9.792460e-07  3.883072e-06  9.774067e-07  9.743799e-07\n",
       "68    2.400960e-07  1.926050e-06  1.199850e-07  4.857323e-07\n",
       "69    2.447039e-07  9.770637e-07  2.421745e-07  4.846598e-07\n",
       "70    4.782340e-07  3.838827e-06  4.784756e-07  9.520574e-07\n",
       "71    4.873903e-07  1.961023e-06  4.881655e-07  9.774662e-07\n",
       "\n",
       "[71 rows x 4 columns]"
      ]
     },
     "execution_count": 2,
     "metadata": {},
     "output_type": "execute_result"
    }
   ],
   "source": [
    "# 連続値データの読み込み\n",
    "data = pd.read_excel('../data/230630_0703AI用qPCRデータ.xlsx', index_col=0)\n",
    "data = data[['bglB', 'malx', 'yihR', 'chbF']]\n",
    "data"
   ]
  },
  {
   "cell_type": "code",
   "execution_count": 3,
   "metadata": {},
   "outputs": [
    {
     "data": {
      "text/plain": [
       "OutEdgeView([('bglB', 'chbF'), ('bglB', 'malx'), ('bglB', 'yihR'), ('malx', 'chbF'), ('malx', 'yihR'), ('yihR', 'chbF')])"
      ]
     },
     "execution_count": 3,
     "metadata": {},
     "output_type": "execute_result"
    }
   ],
   "source": [
    "# 全探索\n",
    "est = ExhaustiveSearch(data, scoring_method=K2Score(data))\n",
    "best_model = est.estimate()"
   ]
  },
  {
   "cell_type": "code",
   "execution_count": 5,
   "metadata": {},
   "outputs": [
    {
     "name": "stdout",
     "output_type": "stream",
     "text": [
      "[('bglB', 'chbF'), ('bglB', 'malx'), ('bglB', 'yihR'), ('malx', 'chbF'), ('malx', 'yihR'), ('yihR', 'chbF')]\n",
      "['bglB', 'chbF', 'malx', 'yihR']\n"
     ]
    }
   ],
   "source": [
    "edges = best_model.edges()\n",
    "nodes = best_model.nodes()\n",
    "\n",
    "print(edges)\n",
    "print(nodes)"
   ]
  },
  {
   "cell_type": "code",
   "execution_count": 5,
   "metadata": {},
   "outputs": [
    {
     "data": {
      "application/vnd.jupyter.widget-view+json": {
       "model_id": "6cec8dee6cbc4fe7af1b32bbccde5f20",
       "version_major": 2,
       "version_minor": 0
      },
      "text/plain": [
       "  0%|          | 0/1000000 [00:00<?, ?it/s]"
      ]
     },
     "metadata": {},
     "output_type": "display_data"
    },
    {
     "name": "stdout",
     "output_type": "stream",
     "text": [
      "[('bglB', 'ascF'), ('malx', 'chbF'), ('malx', 'yihR'), ('chbF', 'bglB')]\n",
      "['bglB', 'malx', 'yihR', 'chbF', 'ascF']\n"
     ]
    }
   ],
   "source": [
    "# ベイジアンネットワークの構造探索\n",
    "hc = HillClimbSearch(data)\n",
    "best_network = hc.estimate(scoring_method=K2Score(data))\n",
    "# hc = ExhaustiveSearch(data, scoring_method=K2Score(data))\n",
    "# best_network = hc.estimate()\n",
    "edges = best_network.edges()\n",
    "nodes = best_network.nodes()\n",
    "print(edges)\n",
    "print(nodes)"
   ]
  },
  {
   "cell_type": "code",
   "execution_count": 16,
   "metadata": {},
   "outputs": [],
   "source": [
    "# from causalnex.structure import StructureModel\n",
    "# from causalnex.plots import plot_structure\n",
    "\n",
    "# sm_cancer_true = StructureModel()\n",
    "\n",
    "# sm_cancer_true.add_edges_from(edges)\n",
    "# viz = plot_structure(\n",
    "#     sm_cancer_true,)\n",
    "\n",
    "# viz.show('./n.html')"
   ]
  },
  {
   "cell_type": "code",
   "execution_count": 7,
   "metadata": {},
   "outputs": [
    {
     "name": "stderr",
     "output_type": "stream",
     "text": [
      "/opt/anaconda3/envs/py3108/lib/python3.10/site-packages/pgmpy/models/BayesianModel.py:8: FutureWarning: BayesianModel has been renamed to BayesianNetwork. Please use BayesianNetwork class, BayesianModel will be removed in future.\n",
      "  warnings.warn(\n"
     ]
    }
   ],
   "source": [
    "# DAGオブジェクトからBayesianModelオブジェクトへ変換\n",
    "best_model_bayesian = BayesianModel(best_model)"
   ]
  },
  {
   "cell_type": "code",
   "execution_count": 8,
   "metadata": {},
   "outputs": [],
   "source": [
    "# 探索したネットワークのエッジからネットワークのモデルを構築してCPDを求める\n",
    "model = BayesianModel(list(edges))\n",
    "# 独立なノードが入っていない場合にも対応\n",
    "model.add_nodes_from(list(nodes))\n",
    "model.fit(data)  # cpds を計算\n",
    "cpds = model.get_cpds()\n",
    "# for cpd in cpds:\n",
    "#     print(cpd, '\\n')"
   ]
  },
  {
   "cell_type": "code",
   "execution_count": 9,
   "metadata": {},
   "outputs": [],
   "source": [
    "for cpd in cpds:\n",
    "    best_model_bayesian.add_cpds(cpd)"
   ]
  },
  {
   "cell_type": "code",
   "execution_count": 11,
   "metadata": {},
   "outputs": [
    {
     "data": {
      "application/vnd.jupyter.widget-view+json": {
       "model_id": "fa38900356f54902ab9bcf9a68799bd4",
       "version_major": 2,
       "version_minor": 0
      },
      "text/plain": [
       "  0%|          | 0/4 [00:00<?, ?it/s]"
      ]
     },
     "metadata": {},
     "output_type": "display_data"
    },
    {
     "name": "stderr",
     "output_type": "stream",
     "text": [
      "/opt/anaconda3/envs/py3108/lib/python3.10/site-packages/pgmpy/utils/mathext.py:83: UserWarning: Probability values don't exactly sum to 1. Differ by: 2.220446049250313e-16. Adjusting values.\n",
      "  warn(\n"
     ]
    },
    {
     "ename": "KeyboardInterrupt",
     "evalue": "",
     "output_type": "error",
     "traceback": [
      "\u001b[0;31m---------------------------------------------------------------------------\u001b[0m",
      "\u001b[0;31mKeyboardInterrupt\u001b[0m                         Traceback (most recent call last)",
      "Cell \u001b[0;32mIn[11], line 3\u001b[0m\n\u001b[1;32m      1\u001b[0m \u001b[39m# パラメータ推定（確率分布の推定）\u001b[39;00m\n\u001b[1;32m      2\u001b[0m sampler \u001b[39m=\u001b[39m BayesianModelSampling(best_model_bayesian)\n\u001b[0;32m----> 3\u001b[0m samples \u001b[39m=\u001b[39m sampler\u001b[39m.\u001b[39;49mforward_sample(size\u001b[39m=\u001b[39;49m\u001b[39m1000\u001b[39;49m)\n",
      "File \u001b[0;32m/opt/anaconda3/envs/py3108/lib/python3.10/site-packages/pgmpy/sampling/Sampling.py:108\u001b[0m, in \u001b[0;36mBayesianModelSampling.forward_sample\u001b[0;34m(self, size, include_latents, seed, show_progress, partial_samples)\u001b[0m\n\u001b[1;32m    105\u001b[0m \u001b[39mif\u001b[39;00m evidence:\n\u001b[1;32m    106\u001b[0m     evidence_values \u001b[39m=\u001b[39m np\u001b[39m.\u001b[39mvstack([sampled[i] \u001b[39mfor\u001b[39;00m i \u001b[39min\u001b[39;00m evidence])\n\u001b[0;32m--> 108\u001b[0m     state_to_index, index_to_weight \u001b[39m=\u001b[39m \u001b[39mself\u001b[39;49m\u001b[39m.\u001b[39;49mpre_compute_reduce_maps(\n\u001b[1;32m    109\u001b[0m         variable\u001b[39m=\u001b[39;49mnode\n\u001b[1;32m    110\u001b[0m     )\n\u001b[1;32m    111\u001b[0m     unique, inverse \u001b[39m=\u001b[39m np\u001b[39m.\u001b[39munique(\n\u001b[1;32m    112\u001b[0m         evidence_values\u001b[39m.\u001b[39mT, axis\u001b[39m=\u001b[39m\u001b[39m0\u001b[39m, return_inverse\u001b[39m=\u001b[39m\u001b[39mTrue\u001b[39;00m\n\u001b[1;32m    113\u001b[0m     )\n\u001b[1;32m    114\u001b[0m     weight_index \u001b[39m=\u001b[39m np\u001b[39m.\u001b[39marray([state_to_index[\u001b[39mtuple\u001b[39m(u)] \u001b[39mfor\u001b[39;00m u \u001b[39min\u001b[39;00m unique])[\n\u001b[1;32m    115\u001b[0m         inverse\n\u001b[1;32m    116\u001b[0m     ]\n",
      "File \u001b[0;32m/opt/anaconda3/envs/py3108/lib/python3.10/site-packages/pgmpy/sampling/base.py:98\u001b[0m, in \u001b[0;36mBayesianModelInference.pre_compute_reduce_maps\u001b[0;34m(self, variable)\u001b[0m\n\u001b[1;32m     89\u001b[0m variable_evid \u001b[39m=\u001b[39m variable_cpd\u001b[39m.\u001b[39mvariables[:\u001b[39m0\u001b[39m:\u001b[39m-\u001b[39m\u001b[39m1\u001b[39m]\n\u001b[1;32m     91\u001b[0m state_combinations \u001b[39m=\u001b[39m [\n\u001b[1;32m     92\u001b[0m     \u001b[39mtuple\u001b[39m(sc)\n\u001b[1;32m     93\u001b[0m     \u001b[39mfor\u001b[39;00m sc \u001b[39min\u001b[39;00m itertools\u001b[39m.\u001b[39mproduct(\n\u001b[1;32m     94\u001b[0m         \u001b[39m*\u001b[39m[\u001b[39mrange\u001b[39m(\u001b[39mself\u001b[39m\u001b[39m.\u001b[39mcardinality[var]) \u001b[39mfor\u001b[39;00m var \u001b[39min\u001b[39;00m variable_evid]\n\u001b[1;32m     95\u001b[0m     )\n\u001b[1;32m     96\u001b[0m ]\n\u001b[1;32m     97\u001b[0m weights_list \u001b[39m=\u001b[39m np\u001b[39m.\u001b[39marray(\n\u001b[0;32m---> 98\u001b[0m     [\n\u001b[1;32m     99\u001b[0m         variable_cpd\u001b[39m.\u001b[39mreduce(\n\u001b[1;32m    100\u001b[0m             \u001b[39mlist\u001b[39m(\u001b[39mzip\u001b[39m(variable_evid, sc)), inplace\u001b[39m=\u001b[39m\u001b[39mFalse\u001b[39;00m, show_warnings\u001b[39m=\u001b[39m\u001b[39mFalse\u001b[39;00m\n\u001b[1;32m    101\u001b[0m         )\u001b[39m.\u001b[39mvalues\n\u001b[1;32m    102\u001b[0m         \u001b[39mfor\u001b[39;00m sc \u001b[39min\u001b[39;00m state_combinations\n\u001b[1;32m    103\u001b[0m     ]\n\u001b[1;32m    104\u001b[0m )\n\u001b[1;32m    106\u001b[0m unique_weights, weights_indices \u001b[39m=\u001b[39m np\u001b[39m.\u001b[39munique(\n\u001b[1;32m    107\u001b[0m     weights_list, axis\u001b[39m=\u001b[39m\u001b[39m0\u001b[39m, return_inverse\u001b[39m=\u001b[39m\u001b[39mTrue\u001b[39;00m\n\u001b[1;32m    108\u001b[0m )\n\u001b[1;32m    110\u001b[0m \u001b[39m# convert weights to index; make mapping of state to index\u001b[39;00m\n",
      "File \u001b[0;32m/opt/anaconda3/envs/py3108/lib/python3.10/site-packages/pgmpy/sampling/base.py:99\u001b[0m, in \u001b[0;36m<listcomp>\u001b[0;34m(.0)\u001b[0m\n\u001b[1;32m     89\u001b[0m variable_evid \u001b[39m=\u001b[39m variable_cpd\u001b[39m.\u001b[39mvariables[:\u001b[39m0\u001b[39m:\u001b[39m-\u001b[39m\u001b[39m1\u001b[39m]\n\u001b[1;32m     91\u001b[0m state_combinations \u001b[39m=\u001b[39m [\n\u001b[1;32m     92\u001b[0m     \u001b[39mtuple\u001b[39m(sc)\n\u001b[1;32m     93\u001b[0m     \u001b[39mfor\u001b[39;00m sc \u001b[39min\u001b[39;00m itertools\u001b[39m.\u001b[39mproduct(\n\u001b[1;32m     94\u001b[0m         \u001b[39m*\u001b[39m[\u001b[39mrange\u001b[39m(\u001b[39mself\u001b[39m\u001b[39m.\u001b[39mcardinality[var]) \u001b[39mfor\u001b[39;00m var \u001b[39min\u001b[39;00m variable_evid]\n\u001b[1;32m     95\u001b[0m     )\n\u001b[1;32m     96\u001b[0m ]\n\u001b[1;32m     97\u001b[0m weights_list \u001b[39m=\u001b[39m np\u001b[39m.\u001b[39marray(\n\u001b[1;32m     98\u001b[0m     [\n\u001b[0;32m---> 99\u001b[0m         variable_cpd\u001b[39m.\u001b[39;49mreduce(\n\u001b[1;32m    100\u001b[0m             \u001b[39mlist\u001b[39;49m(\u001b[39mzip\u001b[39;49m(variable_evid, sc)), inplace\u001b[39m=\u001b[39;49m\u001b[39mFalse\u001b[39;49;00m, show_warnings\u001b[39m=\u001b[39;49m\u001b[39mFalse\u001b[39;49;00m\n\u001b[1;32m    101\u001b[0m         )\u001b[39m.\u001b[39mvalues\n\u001b[1;32m    102\u001b[0m         \u001b[39mfor\u001b[39;00m sc \u001b[39min\u001b[39;00m state_combinations\n\u001b[1;32m    103\u001b[0m     ]\n\u001b[1;32m    104\u001b[0m )\n\u001b[1;32m    106\u001b[0m unique_weights, weights_indices \u001b[39m=\u001b[39m np\u001b[39m.\u001b[39munique(\n\u001b[1;32m    107\u001b[0m     weights_list, axis\u001b[39m=\u001b[39m\u001b[39m0\u001b[39m, return_inverse\u001b[39m=\u001b[39m\u001b[39mTrue\u001b[39;00m\n\u001b[1;32m    108\u001b[0m )\n\u001b[1;32m    110\u001b[0m \u001b[39m# convert weights to index; make mapping of state to index\u001b[39;00m\n",
      "File \u001b[0;32m/opt/anaconda3/envs/py3108/lib/python3.10/site-packages/pgmpy/factors/discrete/CPD.py:406\u001b[0m, in \u001b[0;36mTabularCPD.reduce\u001b[0;34m(self, values, inplace, show_warnings)\u001b[0m\n\u001b[1;32m    401\u001b[0m \u001b[39mif\u001b[39;00m \u001b[39mself\u001b[39m\u001b[39m.\u001b[39mvariable \u001b[39min\u001b[39;00m (value[\u001b[39m0\u001b[39m] \u001b[39mfor\u001b[39;00m value \u001b[39min\u001b[39;00m values):\n\u001b[1;32m    402\u001b[0m     \u001b[39mraise\u001b[39;00m \u001b[39mValueError\u001b[39;00m(\n\u001b[1;32m    403\u001b[0m         \u001b[39m\"\u001b[39m\u001b[39mReduce not allowed on the variable on which CPD is defined\u001b[39m\u001b[39m\"\u001b[39m\n\u001b[1;32m    404\u001b[0m     )\n\u001b[0;32m--> 406\u001b[0m tabular_cpd \u001b[39m=\u001b[39m \u001b[39mself\u001b[39m \u001b[39mif\u001b[39;00m inplace \u001b[39melse\u001b[39;00m \u001b[39mself\u001b[39;49m\u001b[39m.\u001b[39;49mcopy()\n\u001b[1;32m    408\u001b[0m \u001b[39msuper\u001b[39m(TabularCPD, tabular_cpd)\u001b[39m.\u001b[39mreduce(values, show_warnings\u001b[39m=\u001b[39mshow_warnings)\n\u001b[1;32m    409\u001b[0m tabular_cpd\u001b[39m.\u001b[39mnormalize()\n",
      "File \u001b[0;32m/opt/anaconda3/envs/py3108/lib/python3.10/site-packages/pgmpy/factors/discrete/CPD.py:299\u001b[0m, in \u001b[0;36mTabularCPD.copy\u001b[0;34m(self)\u001b[0m\n\u001b[1;32m    297\u001b[0m evidence \u001b[39m=\u001b[39m \u001b[39mself\u001b[39m\u001b[39m.\u001b[39mvariables[\u001b[39m1\u001b[39m:] \u001b[39mif\u001b[39;00m \u001b[39mlen\u001b[39m(\u001b[39mself\u001b[39m\u001b[39m.\u001b[39mvariables) \u001b[39m>\u001b[39m \u001b[39m1\u001b[39m \u001b[39melse\u001b[39;00m \u001b[39mNone\u001b[39;00m\n\u001b[1;32m    298\u001b[0m evidence_card \u001b[39m=\u001b[39m \u001b[39mself\u001b[39m\u001b[39m.\u001b[39mcardinality[\u001b[39m1\u001b[39m:] \u001b[39mif\u001b[39;00m \u001b[39mlen\u001b[39m(\u001b[39mself\u001b[39m\u001b[39m.\u001b[39mvariables) \u001b[39m>\u001b[39m \u001b[39m1\u001b[39m \u001b[39melse\u001b[39;00m \u001b[39mNone\u001b[39;00m\n\u001b[0;32m--> 299\u001b[0m \u001b[39mreturn\u001b[39;00m TabularCPD(\n\u001b[1;32m    300\u001b[0m     \u001b[39mself\u001b[39;49m\u001b[39m.\u001b[39;49mvariable,\n\u001b[1;32m    301\u001b[0m     \u001b[39mself\u001b[39;49m\u001b[39m.\u001b[39;49mvariable_card,\n\u001b[1;32m    302\u001b[0m     \u001b[39mself\u001b[39;49m\u001b[39m.\u001b[39;49mget_values(),\n\u001b[1;32m    303\u001b[0m     evidence,\n\u001b[1;32m    304\u001b[0m     evidence_card,\n\u001b[1;32m    305\u001b[0m     state_names\u001b[39m=\u001b[39;49m\u001b[39mself\u001b[39;49m\u001b[39m.\u001b[39;49mstate_names\u001b[39m.\u001b[39;49mcopy(),\n\u001b[1;32m    306\u001b[0m )\n",
      "File \u001b[0;32m/opt/anaconda3/envs/py3108/lib/python3.10/site-packages/pgmpy/factors/discrete/CPD.py:142\u001b[0m, in \u001b[0;36mTabularCPD.__init__\u001b[0;34m(self, variable, variable_card, values, evidence, evidence_card, state_names)\u001b[0m\n\u001b[1;32m    137\u001b[0m \u001b[39mif\u001b[39;00m \u001b[39mnot\u001b[39;00m \u001b[39misinstance\u001b[39m(state_names, \u001b[39mdict\u001b[39m):\n\u001b[1;32m    138\u001b[0m     \u001b[39mraise\u001b[39;00m \u001b[39mValueError\u001b[39;00m(\n\u001b[1;32m    139\u001b[0m         \u001b[39mf\u001b[39m\u001b[39m\"\u001b[39m\u001b[39mstate_names must be of type dict. Got \u001b[39m\u001b[39m{\u001b[39;00m\u001b[39mtype\u001b[39m(state_names)\u001b[39m}\u001b[39;00m\u001b[39m\"\u001b[39m\n\u001b[1;32m    140\u001b[0m     )\n\u001b[0;32m--> 142\u001b[0m \u001b[39msuper\u001b[39;49m(TabularCPD, \u001b[39mself\u001b[39;49m)\u001b[39m.\u001b[39;49m\u001b[39m__init__\u001b[39;49m(\n\u001b[1;32m    143\u001b[0m     variables, cardinality, values\u001b[39m.\u001b[39;49mflatten(\u001b[39m\"\u001b[39;49m\u001b[39mC\u001b[39;49m\u001b[39m\"\u001b[39;49m), state_names\u001b[39m=\u001b[39;49mstate_names\n\u001b[1;32m    144\u001b[0m )\n",
      "File \u001b[0;32m/opt/anaconda3/envs/py3108/lib/python3.10/site-packages/pgmpy/factors/discrete/DiscreteFactor.py:88\u001b[0m, in \u001b[0;36mDiscreteFactor.__init__\u001b[0;34m(self, variables, cardinality, values, state_names)\u001b[0m\n\u001b[1;32m     85\u001b[0m \u001b[39mif\u001b[39;00m \u001b[39misinstance\u001b[39m(variables, \u001b[39mstr\u001b[39m):\n\u001b[1;32m     86\u001b[0m     \u001b[39mraise\u001b[39;00m \u001b[39mTypeError\u001b[39;00m(\u001b[39m\"\u001b[39m\u001b[39mVariables: Expected type list or array like, got string\u001b[39m\u001b[39m\"\u001b[39m)\n\u001b[0;32m---> 88\u001b[0m values \u001b[39m=\u001b[39m np\u001b[39m.\u001b[39;49marray(values, dtype\u001b[39m=\u001b[39;49m\u001b[39mfloat\u001b[39;49m)\n\u001b[1;32m     90\u001b[0m \u001b[39mif\u001b[39;00m \u001b[39mlen\u001b[39m(cardinality) \u001b[39m!=\u001b[39m \u001b[39mlen\u001b[39m(variables):\n\u001b[1;32m     91\u001b[0m     \u001b[39mraise\u001b[39;00m \u001b[39mValueError\u001b[39;00m(\n\u001b[1;32m     92\u001b[0m         \u001b[39m\"\u001b[39m\u001b[39mNumber of elements in cardinality must be equal to number of variables\u001b[39m\u001b[39m\"\u001b[39m\n\u001b[1;32m     93\u001b[0m     )\n",
      "\u001b[0;31mKeyboardInterrupt\u001b[0m: "
     ]
    }
   ],
   "source": [
    "# パラメータ推定（確率分布の推定）\n",
    "sampler = BayesianModelSampling(best_model_bayesian)\n",
    "samples = sampler.forward_sample(size=1000)"
   ]
  },
  {
   "cell_type": "code",
   "execution_count": 21,
   "metadata": {},
   "outputs": [],
   "source": [
    "# from scipy.stats import norm\n",
    "# import matplotlib.pyplot as plt\n",
    "# import seaborn as sns\n",
    "# sns.set()\n",
    "\n",
    "# # 可視化関数\n",
    "# def norm_plot(node, min_value, max_value, mu, std):\n",
    "#     X = np.arange(start=min_value, stop=max_value, step=0.000000001)\n",
    "\n",
    "#     # pdfで確率密度関数を生成\n",
    "#     norm_pdf = norm.pdf(x=X, loc=mu, scale=std)\n",
    "\n",
    "#     fig = plt.figure(figsize=(15, 8))\n",
    "\n",
    "#     plt.plot(X, norm_pdf)\n",
    "#     plt.title(node)\n",
    "#     plt.show()\n",
    "#     fig.savefig('./output/pdf/{}.png'.format(node))"
   ]
  },
  {
   "cell_type": "code",
   "execution_count": 22,
   "metadata": {},
   "outputs": [],
   "source": [
    "# # 推定されたパラメータの確率分布を表示\n",
    "# for node, min_value, max_value in zip(best_model_bayesian.nodes(), data.min(), data.max()):\n",
    "#     variable_samples = samples[node]\n",
    "#     variable_mean = np.mean(variable_samples)\n",
    "#     variable_std = np.std(variable_samples)\n",
    "#     print(f\"{node}: Normal(mu={variable_mean}, sd={variable_std})\")\n",
    "#     norm_plot(node, min_value, max_value, variable_mean, variable_std)"
   ]
  },
  {
   "cell_type": "code",
   "execution_count": 11,
   "metadata": {},
   "outputs": [
    {
     "name": "stdout",
     "output_type": "stream",
     "text": [
      "Warning: When  cdn_resources is 'local' jupyter notebook has issues displaying graphics on chrome/safari. Use cdn_resources='in_line' or cdn_resources='remote' if you have issues viewing graphics in a notebook.\n",
      "../work/output/network.html\n"
     ]
    },
    {
     "data": {
      "text/html": [
       "\n",
       "        <iframe\n",
       "            width=\"100%\"\n",
       "            height=\"600px\"\n",
       "            src=\"../work/output/network.html\"\n",
       "            frameborder=\"0\"\n",
       "            allowfullscreen\n",
       "            \n",
       "        ></iframe>\n",
       "        "
      ],
      "text/plain": [
       "<IPython.lib.display.IFrame at 0x1749a9240>"
      ]
     },
     "execution_count": 11,
     "metadata": {},
     "output_type": "execute_result"
    }
   ],
   "source": [
    "from pyvis import network as net\n",
    "\n",
    "edge_list = list(best_network.edges())\n",
    "edge_list = [i + tuple([0.1]) for i in edge_list]  # ウェイトの値を適当に追加\n",
    "\n",
    "# jupyter中に表示させる場合、notebook=True, →にする場合directed=True\n",
    "got_net = net.Network(notebook=True, directed=True)\n",
    "\n",
    "for e in edge_list:\n",
    "    src = e[0]\n",
    "    dst = e[1]\n",
    "    w = e[2]\n",
    "\n",
    "    got_net.add_node(src, title=src, shape='ellipse', label=src)\n",
    "    got_net.add_node(dst, title=dst, shape='ellipse', label=dst)\n",
    "    got_net.add_edge(src, dst, width=3)\n",
    "\n",
    "    # print(src)\n",
    "    # print(dst)\n",
    "    # print(w)\n",
    "    # print('='*10)\n",
    "\n",
    "neighbor_map = got_net.get_adj_list()\n",
    "\n",
    "for node in got_net.nodes:\n",
    "    node['title'] += ' Neighbors:<br>' + '<br>'.join(neighbor_map[node['id']])\n",
    "    node['value'] = len(neighbor_map[node['id']])\n",
    "    # node['label'] = node['label']\n",
    "\n",
    "got_net.show_buttons(False)\n",
    "\n",
    "got_net.show('../work/output/network.html')\n"
   ]
  }
 ],
 "metadata": {
  "kernelspec": {
   "display_name": "py3108",
   "language": "python",
   "name": "python3"
  },
  "language_info": {
   "codemirror_mode": {
    "name": "ipython",
    "version": 3
   },
   "file_extension": ".py",
   "mimetype": "text/x-python",
   "name": "python",
   "nbconvert_exporter": "python",
   "pygments_lexer": "ipython3",
   "version": "3.10.8"
  },
  "orig_nbformat": 4
 },
 "nbformat": 4,
 "nbformat_minor": 2
}
