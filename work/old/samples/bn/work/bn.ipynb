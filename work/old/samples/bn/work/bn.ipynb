{
 "cells": [
  {
   "cell_type": "code",
   "execution_count": 3,
   "metadata": {},
   "outputs": [
    {
     "name": "stdout",
     "output_type": "stream",
     "text": [
      "Collecting openpyxl\n",
      "  Downloading openpyxl-3.1.2-py2.py3-none-any.whl (249 kB)\n",
      "\u001b[K     |████████████████████████████████| 249 kB 16.8 MB/s eta 0:00:01\n",
      "\u001b[?25hCollecting et-xmlfile\n",
      "  Downloading et_xmlfile-1.1.0-py3-none-any.whl (4.7 kB)\n",
      "Installing collected packages: et-xmlfile, openpyxl\n",
      "Successfully installed et-xmlfile-1.1.0 openpyxl-3.1.2\n",
      "Note: you may need to restart the kernel to use updated packages.\n"
     ]
    }
   ],
   "source": [
    "%pip install openpyxl"
   ]
  },
  {
   "cell_type": "code",
   "execution_count": 1,
   "metadata": {},
   "outputs": [
    {
     "name": "stderr",
     "output_type": "stream",
     "text": [
      "/home/yarita/.local/lib/python3.9/site-packages/tqdm/auto.py:21: TqdmWarning: IProgress not found. Please update jupyter and ipywidgets. See https://ipywidgets.readthedocs.io/en/stable/user_install.html\n",
      "  from .autonotebook import tqdm as notebook_tqdm\n"
     ]
    }
   ],
   "source": [
    "from pgmpy.models import BayesianModel\n",
    "from pgmpy.estimators import HillClimbSearch, K2Score, ExhaustiveSearch, BDeuScore\n",
    "from pgmpy.sampling import BayesianModelSampling\n",
    "import pandas as pd\n",
    "import numpy as np\n",
    "from pgmpy.inference.CausalInference import CausalInference\n",
    "from pyvis import network as net"
   ]
  },
  {
   "cell_type": "code",
   "execution_count": 4,
   "metadata": {},
   "outputs": [
    {
     "data": {
      "text/html": [
       "<div>\n",
       "<style scoped>\n",
       "    .dataframe tbody tr th:only-of-type {\n",
       "        vertical-align: middle;\n",
       "    }\n",
       "\n",
       "    .dataframe tbody tr th {\n",
       "        vertical-align: top;\n",
       "    }\n",
       "\n",
       "    .dataframe thead th {\n",
       "        text-align: right;\n",
       "    }\n",
       "</style>\n",
       "<table border=\"1\" class=\"dataframe\">\n",
       "  <thead>\n",
       "    <tr style=\"text-align: right;\">\n",
       "      <th></th>\n",
       "      <th>bglB</th>\n",
       "      <th>malx</th>\n",
       "      <th>yihR</th>\n",
       "      <th>chbF</th>\n",
       "      <th>ascF</th>\n",
       "    </tr>\n",
       "    <tr>\n",
       "      <th>gene</th>\n",
       "      <th></th>\n",
       "      <th></th>\n",
       "      <th></th>\n",
       "      <th></th>\n",
       "      <th></th>\n",
       "    </tr>\n",
       "  </thead>\n",
       "  <tbody>\n",
       "    <tr>\n",
       "      <th>1</th>\n",
       "      <td>2.389907e-07</td>\n",
       "      <td>9.403729e-07</td>\n",
       "      <td>4.792578e-07</td>\n",
       "      <td>4.533360e-07</td>\n",
       "      <td>1.842627e-06</td>\n",
       "    </tr>\n",
       "    <tr>\n",
       "      <th>2</th>\n",
       "      <td>3.838396e-06</td>\n",
       "      <td>3.847846e-06</td>\n",
       "      <td>3.848767e-06</td>\n",
       "      <td>1.920287e-06</td>\n",
       "      <td>3.815250e-06</td>\n",
       "    </tr>\n",
       "    <tr>\n",
       "      <th>3</th>\n",
       "      <td>4.884611e-07</td>\n",
       "      <td>9.615077e-07</td>\n",
       "      <td>4.864569e-07</td>\n",
       "      <td>4.830404e-07</td>\n",
       "      <td>9.581183e-07</td>\n",
       "    </tr>\n",
       "    <tr>\n",
       "      <th>4</th>\n",
       "      <td>1.217226e-07</td>\n",
       "      <td>4.807837e-07</td>\n",
       "      <td>1.207673e-07</td>\n",
       "      <td>2.398760e-07</td>\n",
       "      <td>4.799480e-07</td>\n",
       "    </tr>\n",
       "    <tr>\n",
       "      <th>5</th>\n",
       "      <td>2.417564e-07</td>\n",
       "      <td>9.593193e-07</td>\n",
       "      <td>2.428970e-07</td>\n",
       "      <td>4.823107e-07</td>\n",
       "      <td>9.566899e-07</td>\n",
       "    </tr>\n",
       "    <tr>\n",
       "      <th>...</th>\n",
       "      <td>...</td>\n",
       "      <td>...</td>\n",
       "      <td>...</td>\n",
       "      <td>...</td>\n",
       "      <td>...</td>\n",
       "    </tr>\n",
       "    <tr>\n",
       "      <th>107</th>\n",
       "      <td>4.848761e-07</td>\n",
       "      <td>3.886102e-06</td>\n",
       "      <td>9.700637e-07</td>\n",
       "      <td>9.729974e-07</td>\n",
       "      <td>1.929397e-06</td>\n",
       "    </tr>\n",
       "    <tr>\n",
       "      <th>108</th>\n",
       "      <td>2.408789e-07</td>\n",
       "      <td>1.906135e-06</td>\n",
       "      <td>9.624883e-07</td>\n",
       "      <td>9.566223e-07</td>\n",
       "      <td>9.527273e-07</td>\n",
       "    </tr>\n",
       "    <tr>\n",
       "      <th>109</th>\n",
       "      <td>4.815630e-07</td>\n",
       "      <td>3.875600e-06</td>\n",
       "      <td>1.944778e-06</td>\n",
       "      <td>9.663708e-07</td>\n",
       "      <td>1.900486e-06</td>\n",
       "    </tr>\n",
       "    <tr>\n",
       "      <th>110</th>\n",
       "      <td>1.881602e-06</td>\n",
       "      <td>1.900545e-06</td>\n",
       "      <td>1.885412e-06</td>\n",
       "      <td>9.396897e-07</td>\n",
       "      <td>1.901576e-06</td>\n",
       "    </tr>\n",
       "    <tr>\n",
       "      <th>111</th>\n",
       "      <td>6.081945e-08</td>\n",
       "      <td>1.950155e-06</td>\n",
       "      <td>2.456394e-07</td>\n",
       "      <td>2.457579e-07</td>\n",
       "      <td>1.936510e-06</td>\n",
       "    </tr>\n",
       "  </tbody>\n",
       "</table>\n",
       "<p>111 rows × 5 columns</p>\n",
       "</div>"
      ],
      "text/plain": [
       "              bglB          malx          yihR          chbF          ascF\n",
       "gene                                                                      \n",
       "1     2.389907e-07  9.403729e-07  4.792578e-07  4.533360e-07  1.842627e-06\n",
       "2     3.838396e-06  3.847846e-06  3.848767e-06  1.920287e-06  3.815250e-06\n",
       "3     4.884611e-07  9.615077e-07  4.864569e-07  4.830404e-07  9.581183e-07\n",
       "4     1.217226e-07  4.807837e-07  1.207673e-07  2.398760e-07  4.799480e-07\n",
       "5     2.417564e-07  9.593193e-07  2.428970e-07  4.823107e-07  9.566899e-07\n",
       "...            ...           ...           ...           ...           ...\n",
       "107   4.848761e-07  3.886102e-06  9.700637e-07  9.729974e-07  1.929397e-06\n",
       "108   2.408789e-07  1.906135e-06  9.624883e-07  9.566223e-07  9.527273e-07\n",
       "109   4.815630e-07  3.875600e-06  1.944778e-06  9.663708e-07  1.900486e-06\n",
       "110   1.881602e-06  1.900545e-06  1.885412e-06  9.396897e-07  1.901576e-06\n",
       "111   6.081945e-08  1.950155e-06  2.456394e-07  2.457579e-07  1.936510e-06\n",
       "\n",
       "[111 rows x 5 columns]"
      ]
     },
     "execution_count": 4,
     "metadata": {},
     "output_type": "execute_result"
    }
   ],
   "source": [
    "# 連続値データの読み込み\n",
    "data = pd.read_excel('../data/230724_0804_AI用qPCRデータ.xlsx', index_col=0, header=1)\n",
    "data = data.dropna()\n",
    "data = data[['bglB', 'malx', 'yihR', 'chbF', 'ascF']]\n",
    "# data = data[['bglB', 'malx', 'yihR', 'chbF']]\n",
    "data"
   ]
  },
  {
   "cell_type": "code",
   "execution_count": 5,
   "metadata": {},
   "outputs": [],
   "source": [
    "# 全探索\n",
    "est = ExhaustiveSearch(data, scoring_method=K2Score(data))\n",
    "# est = ExhaustiveSearch(data, scoring_method=BDeuScore(data))\n",
    "best_model = est.estimate()"
   ]
  },
  {
   "cell_type": "code",
   "execution_count": 5,
   "metadata": {},
   "outputs": [
    {
     "name": "stdout",
     "output_type": "stream",
     "text": [
      "[('bglB', 'chbF'), ('bglB', 'malx'), ('bglB', 'yihR')]\n",
      "['bglB', 'chbF', 'malx', 'yihR']\n"
     ]
    }
   ],
   "source": [
    "# BDeu usage\n",
    "edges = best_model.edges()\n",
    "nodes = best_model.nodes()\n",
    "\n",
    "print(edges)\n",
    "print(nodes)"
   ]
  },
  {
   "cell_type": "code",
   "execution_count": 6,
   "metadata": {},
   "outputs": [
    {
     "name": "stdout",
     "output_type": "stream",
     "text": [
      "[('bglB', 'chbF'), ('bglB', 'malx'), ('bglB', 'yihR')]\n",
      "['bglB', 'chbF', 'malx', 'yihR']\n"
     ]
    }
   ],
   "source": [
    "# K2 usage\n",
    "edges = best_model.edges()\n",
    "nodes = best_model.nodes()\n",
    "\n",
    "print(edges)\n",
    "print(nodes)"
   ]
  },
  {
   "cell_type": "code",
   "execution_count": 7,
   "metadata": {},
   "outputs": [
    {
     "name": "stdout",
     "output_type": "stream",
     "text": [
      "Warning: When  cdn_resources is 'local' jupyter notebook has issues displaying graphics on chrome/safari. Use cdn_resources='in_line' or cdn_resources='remote' if you have issues viewing graphics in a notebook.\n",
      "../work/output/network_usage_K2Score.html\n"
     ]
    },
    {
     "data": {
      "text/html": [
       "\n",
       "        <iframe\n",
       "            width=\"100%\"\n",
       "            height=\"600px\"\n",
       "            src=\"../work/output/network_usage_K2Score.html\"\n",
       "            frameborder=\"0\"\n",
       "            allowfullscreen\n",
       "            \n",
       "        ></iframe>\n",
       "        "
      ],
      "text/plain": [
       "<IPython.lib.display.IFrame at 0x7fa2e70ab970>"
      ]
     },
     "execution_count": 7,
     "metadata": {},
     "output_type": "execute_result"
    }
   ],
   "source": [
    "# draw network\n",
    "edge_list = list(edges)\n",
    "edge_list = [i + tuple([0.1]) for i in edge_list]  # ウェイトの値を適当に追加\n",
    "\n",
    "# jupyter中に表示させる場合、notebook=True, →にする場合directed=True\n",
    "got_net = net.Network(notebook=True, directed=True)\n",
    "\n",
    "for e in edge_list:\n",
    "    src = e[0]\n",
    "    dst = e[1]\n",
    "    w = e[2]\n",
    "\n",
    "    got_net.add_node(src, title=src, shape='ellipse', label=src)\n",
    "    got_net.add_node(dst, title=dst, shape='ellipse', label=dst)\n",
    "    got_net.add_edge(src, dst, width=3)\n",
    "\n",
    "    # print(src)\n",
    "    # print(dst)\n",
    "    # print(w)\n",
    "    # print('='*10)\n",
    "\n",
    "neighbor_map = got_net.get_adj_list()\n",
    "\n",
    "for node in got_net.nodes:\n",
    "    node['title'] += ' Neighbors:<br>' + '<br>'.join(neighbor_map[node['id']])\n",
    "    node['value'] = len(neighbor_map[node['id']])\n",
    "    # node['label'] = node['label']\n",
    "\n",
    "got_net.show_buttons(False)\n",
    "\n",
    "got_net.show('../work/output/network_usage_K2Score.html')\n"
   ]
  },
  {
   "cell_type": "code",
   "execution_count": 7,
   "metadata": {},
   "outputs": [
    {
     "name": "stderr",
     "output_type": "stream",
     "text": [
      "/home/c0a20047/.local/lib/python3.10/site-packages/pgmpy/models/BayesianModel.py:8: FutureWarning: BayesianModel has been renamed to BayesianNetwork. Please use BayesianNetwork class, BayesianModel will be removed in future.\n",
      "  warnings.warn(\n"
     ]
    }
   ],
   "source": [
    "# DAGオブジェクトからBayesianModelオブジェクトへ変換\n",
    "best_model_bayesian = BayesianModel(best_model)"
   ]
  },
  {
   "cell_type": "code",
   "execution_count": 8,
   "metadata": {},
   "outputs": [
    {
     "name": "stderr",
     "output_type": "stream",
     "text": [
      "/home/c0a20047/.local/lib/python3.10/site-packages/pgmpy/factors/discrete/CPD.py:331: RuntimeWarning: invalid value encountered in divide\n",
      "  tabular_cpd.values = (cpd / cpd.sum(axis=0)).reshape(tabular_cpd.cardinality)\n",
      "/home/c0a20047/.local/lib/python3.10/site-packages/pgmpy/factors/discrete/CPD.py:331: RuntimeWarning: invalid value encountered in divide\n",
      "  tabular_cpd.values = (cpd / cpd.sum(axis=0)).reshape(tabular_cpd.cardinality)\n"
     ]
    }
   ],
   "source": [
    "# 探索したネットワークのエッジからネットワークのモデルを構築してCPDを求める\n",
    "model = BayesianModel(list(edges))\n",
    "# 独立なノードが入っていない場合にも対応\n",
    "model.add_nodes_from(list(nodes))\n",
    "model.fit(data)  # cpds を計算\n",
    "cpds = model.get_cpds()\n",
    "# for cpd in cpds:\n",
    "#     print(cpd, '\\n')"
   ]
  },
  {
   "cell_type": "code",
   "execution_count": 11,
   "metadata": {},
   "outputs": [
    {
     "name": "stdout",
     "output_type": "stream",
     "text": [
      "[<TabularCPD representing P(ascF:71 | malx:71, yihR:71) at 0x7f56d50c36d0>, <TabularCPD representing P(bglB:71 | ascF:71, malx:71, yihR:71) at 0x7f56d5147370>, <TabularCPD representing P(chbF:71 | ascF:71, bglB:71, malx:71, yihR:71) at 0x7f56d50c2320>, <TabularCPD representing P(malx:71) at 0x7f56d5147070>, <TabularCPD representing P(yihR:71 | malx:71) at 0x7f56d51476d0>]\n"
     ]
    }
   ],
   "source": [
    "print(cpds)"
   ]
  },
  {
   "cell_type": "code",
   "execution_count": 20,
   "metadata": {},
   "outputs": [],
   "source": [
    "# # HillClimbSearch\n",
    "# # 全探索\n",
    "# hc = HillClimbSearch(data)\n",
    "# hc_best_model = hc.estimate()\n",
    "\n",
    "# hc_edges = hc_best_model.edges()\n",
    "# hc_nodes = hc_best_model.nodes()\n",
    "\n",
    "# print(\"=\"*20)\n",
    "# print(hc_edges)\n",
    "# print(hc_nodes)\n",
    "\n",
    "# # DAGオブジェクトからBayesianModelオブジェクトへ変換\n",
    "# hc_best_model_bayesian = BayesianModel(hc_best_model)\n",
    "\n",
    "# # 探索したネットワークのエッジからネットワークのモデルを構築してCPDを求める\n",
    "# hc_model = BayesianModel(list(hc_edges))\n",
    "# # 独立なノードが入っていない場合にも対応\n",
    "# hc_model.add_nodes_from(list(hc_nodes))\n",
    "# hc_model.fit(data)  # cpds を計算\n",
    "# hc_cpds = hc_model.get_cpds()\n",
    "# # for cpd in cpds:\n",
    "# #     print(cpd, '\\n')\n",
    "\n",
    "# print(\"=\"*20)\n",
    "# print(hc_cpds)\n",
    "\n",
    "# print(\"=\"*20)\n",
    "# for cpd in hc_cpds:\n",
    "#     print(cpd)\n"
   ]
  },
  {
   "cell_type": "code",
   "execution_count": 12,
   "metadata": {},
   "outputs": [
    {
     "ename": "TypeError",
     "evalue": "'TabularCPD' object is not iterable",
     "output_type": "error",
     "traceback": [
      "\u001b[0;31m---------------------------------------------------------------------------\u001b[0m",
      "\u001b[0;31mTypeError\u001b[0m                                 Traceback (most recent call last)",
      "Cell \u001b[0;32mIn[12], line 2\u001b[0m\n\u001b[1;32m      1\u001b[0m \u001b[39mfor\u001b[39;00m cpd \u001b[39min\u001b[39;00m cpds:\n\u001b[0;32m----> 2\u001b[0m     \u001b[39mfor\u001b[39;00m c \u001b[39min\u001b[39;00m cpd:\n\u001b[1;32m      3\u001b[0m         best_model_bayesian\u001b[39m.\u001b[39madd_cpds(c)\n",
      "\u001b[0;31mTypeError\u001b[0m: 'TabularCPD' object is not iterable"
     ]
    }
   ],
   "source": [
    "for cpd in cpds:\n",
    "    best_model_bayesian.add_cpds(cpd)"
   ]
  },
  {
   "cell_type": "code",
   "execution_count": 19,
   "metadata": {},
   "outputs": [
    {
     "ename": "ValueError",
     "evalue": "Sum or integral of conditional probabilities for node ascF is not equal to 1.",
     "output_type": "error",
     "traceback": [
      "\u001b[0;31m---------------------------------------------------------------------------\u001b[0m",
      "\u001b[0;31mValueError\u001b[0m                                Traceback (most recent call last)",
      "Cell \u001b[0;32mIn[19], line 2\u001b[0m\n\u001b[1;32m      1\u001b[0m \u001b[39m# パラメータ推定（確率分布の推定）\u001b[39;00m\n\u001b[0;32m----> 2\u001b[0m sampler \u001b[39m=\u001b[39m BayesianModelSampling(best_model_bayesian)\n\u001b[1;32m      3\u001b[0m samples \u001b[39m=\u001b[39m sampler\u001b[39m.\u001b[39mforward_sample(size\u001b[39m=\u001b[39m\u001b[39m1000\u001b[39m)\n",
      "File \u001b[0;32m~/.local/lib/python3.10/site-packages/pgmpy/sampling/Sampling.py:30\u001b[0m, in \u001b[0;36mBayesianModelSampling.__init__\u001b[0;34m(self, model)\u001b[0m\n\u001b[1;32m     29\u001b[0m \u001b[39mdef\u001b[39;00m \u001b[39m__init__\u001b[39m(\u001b[39mself\u001b[39m, model):\n\u001b[0;32m---> 30\u001b[0m     \u001b[39msuper\u001b[39;49m(BayesianModelSampling, \u001b[39mself\u001b[39;49m)\u001b[39m.\u001b[39;49m\u001b[39m__init__\u001b[39;49m(model)\n",
      "File \u001b[0;32m~/.local/lib/python3.10/site-packages/pgmpy/sampling/base.py:38\u001b[0m, in \u001b[0;36mBayesianModelInference.__init__\u001b[0;34m(self, model)\u001b[0m\n\u001b[1;32m     34\u001b[0m \u001b[39mif\u001b[39;00m \u001b[39mnot\u001b[39;00m \u001b[39misinstance\u001b[39m(model, BayesianNetwork):\n\u001b[1;32m     35\u001b[0m     \u001b[39mraise\u001b[39;00m \u001b[39mTypeError\u001b[39;00m(\n\u001b[1;32m     36\u001b[0m         \u001b[39mf\u001b[39m\u001b[39m\"\u001b[39m\u001b[39mModel expected type: BayesianNetwork, got type: \u001b[39m\u001b[39m{\u001b[39;00m\u001b[39mtype\u001b[39m(model)\u001b[39m}\u001b[39;00m\u001b[39m\"\u001b[39m\n\u001b[1;32m     37\u001b[0m     )\n\u001b[0;32m---> 38\u001b[0m \u001b[39msuper\u001b[39;49m(BayesianModelInference, \u001b[39mself\u001b[39;49m)\u001b[39m.\u001b[39;49m\u001b[39m__init__\u001b[39;49m(model)\n\u001b[1;32m     39\u001b[0m \u001b[39mself\u001b[39m\u001b[39m.\u001b[39m_initialize_structures()\n\u001b[1;32m     41\u001b[0m \u001b[39mself\u001b[39m\u001b[39m.\u001b[39mtopological_order \u001b[39m=\u001b[39m \u001b[39mlist\u001b[39m(nx\u001b[39m.\u001b[39mtopological_sort(model))\n",
      "File \u001b[0;32m~/.local/lib/python3.10/site-packages/pgmpy/inference/base.py:67\u001b[0m, in \u001b[0;36mInference.__init__\u001b[0;34m(self, model)\u001b[0m\n\u001b[1;32m     65\u001b[0m \u001b[39mdef\u001b[39;00m \u001b[39m__init__\u001b[39m(\u001b[39mself\u001b[39m, model):\n\u001b[1;32m     66\u001b[0m     \u001b[39mself\u001b[39m\u001b[39m.\u001b[39mmodel \u001b[39m=\u001b[39m model\n\u001b[0;32m---> 67\u001b[0m     model\u001b[39m.\u001b[39;49mcheck_model()\n\u001b[1;32m     69\u001b[0m     \u001b[39mif\u001b[39;00m \u001b[39misinstance\u001b[39m(\u001b[39mself\u001b[39m\u001b[39m.\u001b[39mmodel, JunctionTree):\n\u001b[1;32m     70\u001b[0m         \u001b[39mself\u001b[39m\u001b[39m.\u001b[39mvariables \u001b[39m=\u001b[39m \u001b[39mset\u001b[39m(chain(\u001b[39m*\u001b[39m\u001b[39mself\u001b[39m\u001b[39m.\u001b[39mmodel\u001b[39m.\u001b[39mnodes()))\n",
      "File \u001b[0;32m~/.local/lib/python3.10/site-packages/pgmpy/models/BayesianNetwork.py:423\u001b[0m, in \u001b[0;36mBayesianNetwork.check_model\u001b[0;34m(self)\u001b[0m\n\u001b[1;32m    421\u001b[0m \u001b[39m# Check if the values of the CPD sum to 1.\u001b[39;00m\n\u001b[1;32m    422\u001b[0m \u001b[39mif\u001b[39;00m \u001b[39mnot\u001b[39;00m cpd\u001b[39m.\u001b[39mis_valid_cpd():\n\u001b[0;32m--> 423\u001b[0m     \u001b[39mraise\u001b[39;00m \u001b[39mValueError\u001b[39;00m(\n\u001b[1;32m    424\u001b[0m         \u001b[39mf\u001b[39m\u001b[39m\"\u001b[39m\u001b[39mSum or integral of conditional probabilities for node \u001b[39m\u001b[39m{\u001b[39;00mnode\u001b[39m}\u001b[39;00m\u001b[39m is not equal to 1.\u001b[39m\u001b[39m\"\u001b[39m\n\u001b[1;32m    425\u001b[0m     )\n\u001b[1;32m    427\u001b[0m \u001b[39mif\u001b[39;00m \u001b[39mlen\u001b[39m(\u001b[39mset\u001b[39m(cpd\u001b[39m.\u001b[39mvariables) \u001b[39m-\u001b[39m \u001b[39mset\u001b[39m(cpd\u001b[39m.\u001b[39mstate_names\u001b[39m.\u001b[39mkeys())) \u001b[39m>\u001b[39m \u001b[39m0\u001b[39m:\n\u001b[1;32m    428\u001b[0m     \u001b[39mraise\u001b[39;00m \u001b[39mValueError\u001b[39;00m(\n\u001b[1;32m    429\u001b[0m         \u001b[39mf\u001b[39m\u001b[39m\"\u001b[39m\u001b[39mCPD for \u001b[39m\u001b[39m{\u001b[39;00mnode\u001b[39m}\u001b[39;00m\u001b[39m doesn\u001b[39m\u001b[39m'\u001b[39m\u001b[39mt have state names defined for all the variables.\u001b[39m\u001b[39m\"\u001b[39m\n\u001b[1;32m    430\u001b[0m     )\n",
      "\u001b[0;31mValueError\u001b[0m: Sum or integral of conditional probabilities for node ascF is not equal to 1."
     ]
    }
   ],
   "source": [
    "# パラメータ推定（確率分布の推定）\n",
    "sampler = BayesianModelSampling(best_model_bayesian)\n",
    "samples = sampler.forward_sample(size=1000)"
   ]
  },
  {
   "cell_type": "code",
   "execution_count": 21,
   "metadata": {},
   "outputs": [],
   "source": [
    "# from scipy.stats import norm\n",
    "# import matplotlib.pyplot as plt\n",
    "# import seaborn as sns\n",
    "# sns.set()\n",
    "\n",
    "# # 可視化関数\n",
    "# def norm_plot(node, min_value, max_value, mu, std):\n",
    "#     X = np.arange(start=min_value, stop=max_value, step=0.000000001)\n",
    "\n",
    "#     # pdfで確率密度関数を生成\n",
    "#     norm_pdf = norm.pdf(x=X, loc=mu, scale=std)\n",
    "\n",
    "#     fig = plt.figure(figsize=(15, 8))\n",
    "\n",
    "#     plt.plot(X, norm_pdf)\n",
    "#     plt.title(node)\n",
    "#     plt.show()\n",
    "#     fig.savefig('./output/pdf/{}.png'.format(node))"
   ]
  },
  {
   "cell_type": "code",
   "execution_count": 22,
   "metadata": {},
   "outputs": [],
   "source": [
    "# # 推定されたパラメータの確率分布を表示\n",
    "# for node, min_value, max_value in zip(best_model_bayesian.nodes(), data.min(), data.max()):\n",
    "#     variable_samples = samples[node]\n",
    "#     variable_mean = np.mean(variable_samples)\n",
    "#     variable_std = np.std(variable_samples)\n",
    "#     print(f\"{node}: Normal(mu={variable_mean}, sd={variable_std})\")\n",
    "#     norm_plot(node, min_value, max_value, variable_mean, variable_std)"
   ]
  },
  {
   "cell_type": "code",
   "execution_count": 11,
   "metadata": {},
   "outputs": [
    {
     "name": "stdout",
     "output_type": "stream",
     "text": [
      "Warning: When  cdn_resources is 'local' jupyter notebook has issues displaying graphics on chrome/safari. Use cdn_resources='in_line' or cdn_resources='remote' if you have issues viewing graphics in a notebook.\n",
      "../work/output/network.html\n"
     ]
    },
    {
     "data": {
      "text/html": [
       "\n",
       "        <iframe\n",
       "            width=\"100%\"\n",
       "            height=\"600px\"\n",
       "            src=\"../work/output/network.html\"\n",
       "            frameborder=\"0\"\n",
       "            allowfullscreen\n",
       "            \n",
       "        ></iframe>\n",
       "        "
      ],
      "text/plain": [
       "<IPython.lib.display.IFrame at 0x1749a9240>"
      ]
     },
     "execution_count": 11,
     "metadata": {},
     "output_type": "execute_result"
    }
   ],
   "source": [
    "from pyvis import network as net\n",
    "\n",
    "edge_list = list(best_network.edges())\n",
    "edge_list = [i + tuple([0.1]) for i in edge_list]  # ウェイトの値を適当に追加\n",
    "\n",
    "# jupyter中に表示させる場合、notebook=True, →にする場合directed=True\n",
    "got_net = net.Network(notebook=True, directed=True)\n",
    "\n",
    "for e in edge_list:\n",
    "    src = e[0]\n",
    "    dst = e[1]\n",
    "    w = e[2]\n",
    "\n",
    "    got_net.add_node(src, title=src, shape='ellipse', label=src)\n",
    "    got_net.add_node(dst, title=dst, shape='ellipse', label=dst)\n",
    "    got_net.add_edge(src, dst, width=3)\n",
    "\n",
    "    # print(src)\n",
    "    # print(dst)\n",
    "    # print(w)\n",
    "    # print('='*10)\n",
    "\n",
    "neighbor_map = got_net.get_adj_list()\n",
    "\n",
    "for node in got_net.nodes:\n",
    "    node['title'] += ' Neighbors:<br>' + '<br>'.join(neighbor_map[node['id']])\n",
    "    node['value'] = len(neighbor_map[node['id']])\n",
    "    # node['label'] = node['label']\n",
    "\n",
    "got_net.show_buttons(False)\n",
    "\n",
    "got_net.show('../work/output/network.html')\n"
   ]
  }
 ],
 "metadata": {
  "kernelspec": {
   "display_name": "Python 3 (ipykernel)",
   "language": "python",
   "name": "python3"
  },
  "language_info": {
   "codemirror_mode": {
    "name": "ipython",
    "version": 3
   },
   "file_extension": ".py",
   "mimetype": "text/x-python",
   "name": "python",
   "nbconvert_exporter": "python",
   "pygments_lexer": "ipython3",
   "version": "3.10.9"
  }
 },
 "nbformat": 4,
 "nbformat_minor": 4
}
