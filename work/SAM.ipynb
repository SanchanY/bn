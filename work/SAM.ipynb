{
 "cells": [
  {
   "cell_type": "code",
   "execution_count": 1,
   "id": "5547e265-9e3a-4330-9766-885ac5f3d59e",
   "metadata": {
    "tags": []
   },
   "outputs": [
    {
     "name": "stderr",
     "output_type": "stream",
     "text": [
      "No GPU automatically detected. Setting SETTINGS.GPU to 0, and SETTINGS.NJOBS to cpu_count.\n"
     ]
    }
   ],
   "source": [
    "import cdt\n",
    "import networkx as nx\n",
    "from cdt.causality.graph import SAM\n",
    "from cdt.data import load_dataset\n",
    "import pandas as pd\n",
    "import numpy as np\n",
    "import matplotlib.pyplot as plt\n",
    "import seaborn as sns\n",
    "import japanize_matplotlib\n",
    "\n",
    "np.set_printoptions(precision=5)\n",
    "pd.options.display.max_columns=1000\n",
    "pd.options.display.max_rows = 1000\n",
    "%matplotlib inline\n",
    "\n",
    "import warnings\n",
    "warnings.filterwarnings('ignore')\n",
    "\n",
    "DATA_PATH = './data/CTU_30m_pH_with_Baseline.csv'\n",
    "VERSION = 'v13_20220809'\n",
    "SAM_RESULT = f'./sam_result'    # SAMを実行した結果を入れるフォルダの名前\n",
    "SEM_RESULT = f'./sem_graph'\n",
    "FIT_INDEX_RESULT = f'./df_fit_index'\n",
    "# lambda1_list = [0.0, 0.001, 0.002, 0.01, 0.02, 0.1, 0.2, 1.0, 2.0] # λs\n",
    "# lambda2_list = [0.002, 0.001, 0.0002, 0.0001, 2e-05, 1e-05, 2e-06, 1e-06, 2e-07] # λf\n",
    "# lambda1_list = [0.5, 1.0, 5.0, 10.0, 50.0, 100.0, 500.0, 1000.0] # λs\n",
    "# lambda2_list = [1e-4, 5e-4, 1e-3, 5e-3, 1e-2, 5e-2, 1e-1, 5e-1, 1.0] # λf\n",
    "lambda1_list = np.round(np.arange(5, 15, 0.1), 2)\n",
    "lambda1_str_list = lambda1_list.astype('str')\n",
    "lambda1_str_list = list(map(lambda y:y.replace('.', '-'), lambda1_str_list))\n",
    "nruns_list = [32, 64, 96] # SAMの平均を取る時の母数\n",
    "threshold_list = np.round(np.arange(0.5, 0.75, 0.05), 3) # パス解析の時に使う閾値\n",
    "\n",
    "TRAIN_EOPCHS = 10000\n",
    "TEST_EPOCHS = 2000\n",
    "NJOBS = 16\n",
    "\n",
    "# lambda1_str_list = list(map(lambda x:str(x).replace('.', '-'), lambda1_list))\n",
    "# lambda2_str_list = list(map(lambda x:str(x).replace('.', '-'), lambda2_list))"
   ]
  },
  {
   "cell_type": "code",
   "execution_count": 2,
   "id": "ca68804f-85fd-4a96-87d4-968c583fc480",
   "metadata": {
    "tags": []
   },
   "outputs": [],
   "source": [
    "def run_SAM(data, nruns, lam1, lam2, njobs, train_epochs=10000, test_epochs=2000, gpus=2):\n",
    "    '''\n",
    "    SAMを実行\n",
    "    \n",
    "    Parameters\n",
    "    ----------\n",
    "    data: DataFrame\n",
    "        学習させるデータ\n",
    "        \n",
    "    nruns: int\n",
    "        平均を取るときの実行回数\n",
    "    \n",
    "    lam1: float\n",
    "        SAMのパラメータλs\n",
    "        \n",
    "    lam2: float\n",
    "        SAMのパラメータλf\n",
    "        \n",
    "    njobs: int\n",
    "        GPUのjob数割り振り\n",
    "        \n",
    "    Returns\n",
    "    -------\n",
    "    matrix: DataFrame\n",
    "        SAMの結果を行列で出力\n",
    "    '''\n",
    "    sam_obj = SAM(lambda1=lam1, lambda2=lam2,\n",
    "                  train_epochs=train_epochs, test_epochs=test_epochs,\n",
    "                  nruns=nruns,njobs=njobs,gpus=gpus)\n",
    "    output = sam_obj.predict(data, graph=None, return_list_results=False)\n",
    "    if type(output) == type(tuple()):\n",
    "        out_nx, out_matrix = output\n",
    "    else:\n",
    "        out_nx = output\n",
    "        \n",
    "    matrix = convert_matrix(out_nx)\n",
    "    return matrix\n",
    "\n",
    "def convert_matrix(edges_nx):\n",
    "    '''\n",
    "    SAMの出力をマトリクスに変換する\n",
    "    \n",
    "    Parameters\n",
    "    ----------\n",
    "    edges_nx: object\n",
    "        SAMから出力されるオブジェクト\n",
    "        \n",
    "    Returns\n",
    "    -------\n",
    "    matrix: DataFrame\n",
    "        因果構造の行列\n",
    "    '''\n",
    "    np.set_printoptions(precision=5, suppress=True)\n",
    "    edges = edges_nx.edges(data=True)\n",
    "    edges_list = list(edges)\n",
    "    edges_num = len(edges_list)\n",
    "\n",
    "    index_list = [edges_list[i][0] for i in range(edges_num)]\n",
    "    target_list = [edges_list[i][1] for i in range(edges_num)]\n",
    "    weight_list = [edges_list[i][2]['weight'] for i in range(edges_num)]\n",
    "    \n",
    "    df = pd.DataFrame(list(zip(index_list,target_list,weight_list)),columns=['index','target','weight'])\n",
    "    \n",
    "    num = len(df['index'].unique())\n",
    "    mat = np.eye(num)\n",
    "    indexs = list(df['index'].unique())\n",
    "    \n",
    "    for edge in df.iterrows():\n",
    "        edge = edge[1]\n",
    "\n",
    "        i = indexs.index(edge['index'])\n",
    "        t = indexs.index(edge['target'])\n",
    "\n",
    "        mat[i,t] = edge['weight']\n",
    "        \n",
    "    for i in range(num):\n",
    "        mat[i,i] = 0\n",
    "    \n",
    "    return pd.DataFrame(mat, index=indexs, columns=indexs)\n",
    "\n",
    "def show_heatmap(result_name, sam_result=SAM_RESULT, version=VERSION, origin_data_path=DATA_PATH,\n",
    "                 figsize=(12,10), font_scale=1.2, linewidths=0.3, cmap='summer_r', \n",
    "                 annot=True, annot_kws={'size': 13}, fmt='1.3f'):\n",
    "    '''\n",
    "    指定したSAMからの出力結果のヒートマップを表示させる\n",
    "    \n",
    "    Parameters\n",
    "    ----------\n",
    "    result_name: str\n",
    "        出力ファイルの名前\n",
    "    '''\n",
    "    df_result = pd.read_csv(f'{sam_result}/{version}/{result_name}.csv')\n",
    "    df_origin = pd.read_csv(DATA_PATH)\n",
    "    columns = df_origin.columns\n",
    "\n",
    "    plt.figure(figsize=figsize)\n",
    "    sns.set(font_scale=font_scale)\n",
    "    sns.heatmap(df_result, linewidths=linewidths, cmap=cmap, xticklabels=columns, \n",
    "                yticklabels=columns, annot=annot, annot_kws=annot_kws, fmt=fmt)\n",
    "    display(plt.show())"
   ]
  },
  {
   "cell_type": "code",
   "execution_count": 3,
   "id": "897ab640-78d5-4d1f-849f-93702a6102ed",
   "metadata": {
    "tags": []
   },
   "outputs": [
    {
     "data": {
      "text/plain": [
       "495"
      ]
     },
     "execution_count": 3,
     "metadata": {},
     "output_type": "execute_result"
    }
   ],
   "source": [
    "df_data = pd.read_csv(DATA_PATH)\n",
    "# df_data.tail(2)\n",
    "len(df_data)"
   ]
  },
  {
   "cell_type": "code",
   "execution_count": null,
   "id": "928115ec-6767-471f-8c44-dd627c70c8e7",
   "metadata": {
    "tags": []
   },
   "outputs": [],
   "source": [
    "mat = run_SAM(df_data, 32, 0.1, 0.001, 1, train_epochs=TRAIN_EOPCHS, test_epochs=TEST_EPOCHS, gpus=2)"
   ]
  },
  {
   "cell_type": "code",
   "execution_count": null,
   "id": "37bfd2ab-6b28-49ba-ae92-6dbd4cd5c5aa",
   "metadata": {},
   "outputs": [],
   "source": [
    "mat.to_csv(f'./{SAM_RESULT}/{VERSION}/{file_name}.csv', index=False) # 結果を保存"
   ]
  }
 ],
 "metadata": {
  "kernelspec": {
   "display_name": "Python 3 (ipykernel)",
   "language": "python",
   "name": "python3"
  },
  "language_info": {
   "codemirror_mode": {
    "name": "ipython",
    "version": 3
   },
   "file_extension": ".py",
   "mimetype": "text/x-python",
   "name": "python",
   "nbconvert_exporter": "python",
   "pygments_lexer": "ipython3",
   "version": "3.11.3"
  }
 },
 "nbformat": 4,
 "nbformat_minor": 5
}
