{
 "cells": [
  {
   "cell_type": "code",
   "execution_count": 4,
   "metadata": {},
   "outputs": [],
   "source": [
    "import matplotlib.pyplot as plt\n",
    "import os\n",
    "import pandas as pd\n",
    "import seaborn as sns"
   ]
  },
  {
   "cell_type": "code",
   "execution_count": null,
   "metadata": {},
   "outputs": [],
   "source": [
    "nodes = ['glk', 'yihX', 'pgm', \n",
    "         'ptsG', 'crr', 'galM', \n",
    "         'yihR', 'pgi', 'ascF', \n",
    "         'chbF', 'ascB', 'bglB', \n",
    "         'glpX', 'fbp', 'pfkB', \n",
    "         'fbaB', 'tpiA', 'pgk', \n",
    "         'ytjc', 'gpmM', 'eno', \n",
    "         'pykF', 'pykA']\n",
    "\n",
    "# 連番生成関数\n",
    "def create_filename(base_name, directory='.', extension='.png'):\n",
    "    counter = 1\n",
    "    while True:\n",
    "        file_name = f\"{base_name}_{counter}{extension}\"\n",
    "        full_path = os.path.join(directory, file_name)\n",
    "        if not os.path.exists(full_path):\n",
    "            return full_path\n",
    "        counter += 1\n",
    "\n",
    "# ノードの数に基づいてサブプロットの行と列の数を決定\n",
    "num_nodes = len(nodes)\n",
    "\n",
    "cols = 4  # 1行に表示するヒートマップの数\n",
    "rows = num_nodes // cols + (num_nodes % cols > 0)\n",
    "\n",
    "# サブプロットのグリッドを作成\n",
    "fig, axs = plt.subplots(rows, cols, figsize=(15, rows * 5), squeeze=False)\n",
    "\n",
    "# ネットワークのタイトル\n",
    "plt.suptitle('条件付き確率分布', y=1.03, fontsize=20)\n",
    "\n",
    "for i, node in enumerate(nodes):\n",
    "    cpd = bn.cpds[node]\n",
    "    cpd_df = pd.DataFrame(cpd)\n",
    "\n",
    "    # 対応するサブプロットにヒートマップを描画\n",
    "    row, col = divmod(i, cols)\n",
    "    sns.heatmap(cpd_df, annot=True, cmap='Blues', ax=axs[row, col])\n",
    "\n",
    "    axs[row, col].set_title(f'{node}')\n",
    "    axs[row, col].set_ylabel('Parent states' if cpd_df.shape[0] > 1 else 'State')\n",
    "    axs[row, col].set_xlabel('Node states')\n",
    "\n",
    "# 空のサブプロットを非表示にする\n",
    "for i in range(num_nodes, rows * cols):\n",
    "    axs[i // cols, i % cols].axis('off')\n",
    "\n",
    "plt.tight_layout()\n",
    "# 保存先指定\n",
    "file_path = create_filename('./output/simple_cpds/cpd')\n",
    "plt.savefig(file_path, format=\"png\", dpi=300, bbox_inches='tight')\n",
    "\n",
    "print(f\"Saved as: {file_path}\")"
   ]
  }
 ],
 "metadata": {
  "kernelspec": {
   "display_name": "py3108",
   "language": "python",
   "name": "python3"
  },
  "language_info": {
   "codemirror_mode": {
    "name": "ipython",
    "version": 3
   },
   "file_extension": ".py",
   "mimetype": "text/x-python",
   "name": "python",
   "nbconvert_exporter": "python",
   "pygments_lexer": "ipython3",
   "version": "3.10.8"
  }
 },
 "nbformat": 4,
 "nbformat_minor": 2
}
