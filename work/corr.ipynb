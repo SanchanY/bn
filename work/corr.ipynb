{
 "cells": [
  {
   "cell_type": "markdown",
   "metadata": {},
   "source": [
    "# 偏相関係数"
   ]
  },
  {
   "cell_type": "code",
   "execution_count": null,
   "metadata": {},
   "outputs": [],
   "source": [
    "# # 偏相関行列の計算\n",
    "# partial_corr_matrix = pg.pcorr(normalized_df).round(3)\n",
    "# partial_corr_matrix\n",
    "\n",
    "# # ヒートマップの描画\n",
    "# plt.figure(figsize=(50, 25))\n",
    "# sns.set(font_scale = 2)\n",
    "\n",
    "# ax = sns.heatmap(\n",
    "#             partial_corr_matrix, \n",
    "#             annot=True, \n",
    "#             fmt='g', \n",
    "#             cmap='Blues', \n",
    "#             annot_kws={\"size\":15}\n",
    "#             )\n",
    "\n",
    "# ax.xaxis.tick_top()\n",
    "# ax.set_xticklabels(ax.get_xticklabels(), rotation=50)\n",
    "\n",
    "# plt.savefig('./output/heatmap.png')"
   ]
  }
 ],
 "metadata": {
  "language_info": {
   "name": "python"
  }
 },
 "nbformat": 4,
 "nbformat_minor": 2
}
